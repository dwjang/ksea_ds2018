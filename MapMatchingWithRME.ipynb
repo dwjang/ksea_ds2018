{
  "cells": [
    {
      "metadata": {
        "trusted": true
      },
      "cell_type": "code",
      "source": "import base64\nimport requests\n\n\ndef run(fname, app_id, app_code):\n\n    inputdata = open(fname,\"rb\").read()\n    #print(\"inputdata.read:\", inputdata)\n    inputdata = base64.b64encode(inputdata)\n    #print(\"b64encoded inputdata:\", inputdata)\n\n    url = \"https://rme.api.here.com/2/matchroute.json\"\n    params = {\n        \"app_id\": app_id,\n        \"app_code\": app_code,\n        \"routemode\": \"car\",\n        \"file\": inputdata\n    }\n\n    result = requests.get(url=url, params=params)\n\n    print(\"status code:\", result.status_code)\n\n    content = result.json()\n    #print(\"content:\", content)\n\n    routes, traces, linkmap = extract_matched_info(content)\n\n    print(\"routes:\", routes)\n\n    print(\"traces:\")\n    for t in traces: print(t)\n\n    print(\"linkmap:\")\n    for k, v in linkmap.items(): print(k, v)\n\n    return\n\n\ndef extract_matched_info(content):\n\n    linkmap = {}\n    routes = []\n    for link in content[\"RouteLinks\"]:\n        linkId = link[\"linkId\"]\n        routes.append(linkId)\n        length = float(link[\"linkLength\"])\n        fc = int(link[\"functionalClass\"])\n        shape = []\n        shapes = link[\"shape\"].strip().split(\" \")\n        nshapes = len(shapes)\n        for i in range(0, nshapes, 2):\n            shape.append((float(shapes[i]), float(shapes[i+1])))\n        linkmap[linkId] = [fc, length, shape]\n\n    traces = []\n    for trace in content[\"TracePoints\"]:\n        lat = float(trace[\"lat\"])\n        lon = float(trace[\"lon\"])\n        linkIdMatched = trace[\"linkIdMatched\"]\n        latMatched = float(trace[\"latMatched\"])\n        lonMatched = float(trace[\"lonMatched\"])\n        matchOffsetOnLink = float(trace[\"matchOffsetOnLink\"])\n        matchDistance = float(trace[\"matchDistance\"])\n        traces.append((lat, lon, linkIdMatched, latMatched, lonMatched, matchOffsetOnLink, matchDistance))\n\n    return routes, traces, linkmap\n",
      "execution_count": 5,
      "outputs": []
    },
    {
      "metadata": {
        "trusted": true
      },
      "cell_type": "code",
      "source": "fname = \"test001.gpx\"\n\n# obtain app_id, app_code from developer.here.com\napp_id = \"gtswh2sa822DHthznV1X\"\napp_code = \"zd2FnIRxq25-BNHJSqgjtg\"\n\nrun(fname, app_id, app_code)",
      "execution_count": 6,
      "outputs": [
        {
          "output_type": "stream",
          "text": "status code: 200\nroutes: [25664478, 1022687683, 1022687684, 25664459, 781742854, 781742855, 25664450, 25664444, 25664440, 25664427, 860272608, 860272609, 781742870, 1022687692, 1022687693]\ntraces:\n(51.10177, 0.39349, 25664478, 51.10178, 0.3935, 0.6290743846692971, 1.46)\n(51.10181, 0.39335, 25664478, 51.10182, 0.39336, 0.8790743846674338, 1.46)\n(51.10255, 0.39366, 781742855, 51.10255, 0.39367, 0.0, 1.11)\n(51.10398, 0.39466, 860272609, 51.10398, 0.39468, 0.1535150210712758, 1.87)\n(51.10501, 0.39533, 1022687693, 51.10501, 0.39532, 0.2847498087963734, 1.33)\nlinkmap:\n25664478 [5, 43.08, [(51.10168, 0.39385), (51.10184, 0.39329)]]\n1022687683 [4, 35.21, [(51.10184, 0.39329), (51.10214, 0.39345)]]\n1022687684 [4, 11.66, [(51.10214, 0.39345), (51.10224, 0.3935)]]\n25664459 [4, 9.33, [(51.10224, 0.3935), (51.10232, 0.39354)]]\n781742854 [4, 27.16, [(51.10232, 0.39354), (51.10245, 0.39361), (51.10255, 0.39367)]]\n781742855 [4, 16.8, [(51.10255, 0.39367), (51.10269, 0.39376)]]\n25664450 [4, 44.74, [(51.10269, 0.39376), (51.10292, 0.39391), (51.10306, 0.39401)]]\n25664444 [4, 21.72, [(51.10306, 0.39401), (51.10324, 0.39413)]]\n25664440 [4, 44.02, [(51.10324, 0.39413), (51.10335, 0.3942), (51.1035, 0.39431), (51.1036, 0.39439)]]\n25664427 [4, 22.3, [(51.1036, 0.39439), (51.10369, 0.39446), (51.10378, 0.39453)]]\n860272608 [4, 19.68, [(51.10378, 0.39453), (51.10394, 0.39465)]]\n860272609 [4, 28.22, [(51.10394, 0.39465), (51.10417, 0.39482)]]\n781742870 [4, 55.33, [(51.10417, 0.39482), (51.10427, 0.39489), (51.10439, 0.39497), (51.10452, 0.39505), (51.10463, 0.39512)]]\n1022687692 [4, 23.55, [(51.10463, 0.39512), (51.10483, 0.39523)]]\n1022687693 [4, 74.44, [(51.10483, 0.39523), (51.10547, 0.39554)]]\n",
          "name": "stdout"
        }
      ]
    },
    {
      "metadata": {
        "trusted": true
      },
      "cell_type": "code",
      "source": "",
      "execution_count": null,
      "outputs": []
    }
  ],
  "metadata": {
    "kernelspec": {
      "name": "python36",
      "display_name": "Python 3.6",
      "language": "python"
    },
    "language_info": {
      "mimetype": "text/x-python",
      "nbconvert_exporter": "python",
      "name": "python",
      "pygments_lexer": "ipython3",
      "version": "3.6.6",
      "file_extension": ".py",
      "codemirror_mode": {
        "version": 3,
        "name": "ipython"
      }
    }
  },
  "nbformat": 4,
  "nbformat_minor": 1
}