{
  "cells": [
    {
      "metadata": {
        "trusted": true
      },
      "cell_type": "code",
      "source": "first_part = \"\"\"\n<!DOCTYPE html>\n<html>\n<head>\n<meta name=\"viewport\" content=\"initial-scale=1.0, width=device-width\" />\n<link rel=\"stylesheet\" type=\"text/css\" href=\"https://js.api.here.com/v3/3.0/mapsjs-ui.css?dp-version=1542186754\" />\n<script type=\"text/javascript\" src=\"https://js.api.here.com/v3/3.0/mapsjs-core.js\"></script>\n<script type=\"text/javascript\" src=\"https://js.api.here.com/v3/3.0/mapsjs-service.js\"></script>\n<script type=\"text/javascript\" src=\"https://js.api.here.com/v3/3.0/mapsjs-ui.js\"></script>\n<script type=\"text/javascript\" src=\"https://js.api.here.com/v3/3.0/mapsjs-mapevents.js\"></script>\n\n</head>\n<body>\n  <div id=\"map\" style=\"width: 100%; height: 400px; background: grey\" />\n  <script  type=\"text/javascript\" charset=\"UTF-8\" >\n    \n\n/**\n * Adds markers to the map highlighting the locations of the captials of\n * France, Italy, Germany, Spain and the United Kingdom.\n *\n * @param  {H.Map} map      A HERE Map instance within the application\n */\nfunction addMarkersToMap(map) {\n  //var parisMarker = new H.map.Marker({lat:48.8567, lng:2.3508});\n  //map.addObject(parisMarker);\n}\n\n/**\n * Boilerplate map initialization code starts below:\n */\n\n//Step 1: initialize communication with the platform\nvar platform = new H.service.Platform({\n  app_id: 'devportal-demo-20180625',\n  app_code: '9v2BkviRwi9Ot26kp2IysQ',\n  useHTTPS: true\n});\nvar pixelRatio = window.devicePixelRatio || 1;\nvar defaultLayers = platform.createDefaultLayers({\n  tileSize: pixelRatio === 1 ? 256 : 512,\n  ppi: pixelRatio === 1 ? undefined : 320\n});\n\n//Step 2: initialize a map - this map is centered over Europe\nvar map = new H.Map(document.getElementById('map'),\n  defaultLayers.normal.map,{\n  center: {lat:50, lng:5},\n  zoom: 4,\n  pixelRatio: pixelRatio\n});\n\n//Step 3: make the map interactive\n// MapEvents enables the event system\n// Behavior implements default interactions for pan/zoom (also on mobile touch environments)\nvar behavior = new H.mapevents.Behavior(new H.mapevents.MapEvents(map));\n\n// Create the default UI components\nvar ui = H.ui.UI.createDefault(map, defaultLayers);\n\n\"\"\"\n\nlast_part = \"\"\"\n\n// Now use the map as required...\naddMarkersToMap(map);\n  </script>\n</body>\n</html>\n\"\"\"",
      "execution_count": 1,
      "outputs": []
    },
    {
      "metadata": {
        "trusted": true
      },
      "cell_type": "code",
      "source": "first_part",
      "execution_count": 2,
      "outputs": [
        {
          "output_type": "execute_result",
          "execution_count": 2,
          "data": {
            "text/plain": "'\\n<!DOCTYPE html>\\n<html>\\n<head>\\n<meta name=\"viewport\" content=\"initial-scale=1.0, width=device-width\" />\\n<link rel=\"stylesheet\" type=\"text/css\" href=\"https://js.api.here.com/v3/3.0/mapsjs-ui.css?dp-version=1542186754\" />\\n<script type=\"text/javascript\" src=\"https://js.api.here.com/v3/3.0/mapsjs-core.js\"></script>\\n<script type=\"text/javascript\" src=\"https://js.api.here.com/v3/3.0/mapsjs-service.js\"></script>\\n<script type=\"text/javascript\" src=\"https://js.api.here.com/v3/3.0/mapsjs-ui.js\"></script>\\n<script type=\"text/javascript\" src=\"https://js.api.here.com/v3/3.0/mapsjs-mapevents.js\"></script>\\n\\n</head>\\n<body>\\n  <div id=\"map\" style=\"width: 100%; height: 400px; background: grey\" />\\n  <script  type=\"text/javascript\" charset=\"UTF-8\" >\\n    \\n\\n/**\\n * Adds markers to the map highlighting the locations of the captials of\\n * France, Italy, Germany, Spain and the United Kingdom.\\n *\\n * @param  {H.Map} map      A HERE Map instance within the application\\n */\\nfunction addMarkersToMap(map) {\\n  //var parisMarker = new H.map.Marker({lat:48.8567, lng:2.3508});\\n  //map.addObject(parisMarker);\\n}\\n\\n/**\\n * Boilerplate map initialization code starts below:\\n */\\n\\n//Step 1: initialize communication with the platform\\nvar platform = new H.service.Platform({\\n  app_id: \\'devportal-demo-20180625\\',\\n  app_code: \\'9v2BkviRwi9Ot26kp2IysQ\\',\\n  useHTTPS: true\\n});\\nvar pixelRatio = window.devicePixelRatio || 1;\\nvar defaultLayers = platform.createDefaultLayers({\\n  tileSize: pixelRatio === 1 ? 256 : 512,\\n  ppi: pixelRatio === 1 ? undefined : 320\\n});\\n\\n//Step 2: initialize a map - this map is centered over Europe\\nvar map = new H.Map(document.getElementById(\\'map\\'),\\n  defaultLayers.normal.map,{\\n  center: {lat:50, lng:5},\\n  zoom: 4,\\n  pixelRatio: pixelRatio\\n});\\n\\n//Step 3: make the map interactive\\n// MapEvents enables the event system\\n// Behavior implements default interactions for pan/zoom (also on mobile touch environments)\\nvar behavior = new H.mapevents.Behavior(new H.mapevents.MapEvents(map));\\n\\n// Create the default UI components\\nvar ui = H.ui.UI.createDefault(map, defaultLayers);\\n\\n// for custom markers\\nvar svgMarkup = \\'<svg style=\"left:-14px;top:-36px;\" xmlns=\"http://www.w3.org/2000/svg\" width=\"28px\" height=\"36px\" ><path d=\"M 19 31 C 19 32.7 16.3 34 13 34 C 9.\\n7 34 7 32.7 7 31 C 7 29.3 9.7 28 13 28 C 16.3 28 19 29.3 19 31 Z\" fill=\"#000\" fill-opacity=\".2\"></path><path d=\"M 13 0 C 9.5 0 6.3 1.3 3.8 3.8 C 1.4 7.8 0 9.4 0\\n 12.8 C 0 16.3 1.4 19.5 3.8 21.9 L 13 31 L 22.2 21.9 C 24.6 19.5 25.9 16.3 25.9 12.8 C 25.9 9.4 24.6 6.1 22.1 3.8 C 19.7 1.3 16.5 0 13 0 Z\" fill=\"#fff\"></path><\\npath d=\"M 13 2.2 C 6 2.2 2.3 7.2 2.1 12.8 C 2.1 16.1 3.1 18.4 5.2 20.5 L 13 28.2 L 20.8 20.5 C 22.9 18.4 23.8 16.2 23.8 12.8 C 23.6 7.07 20 2.2 13 2.2 Z\" fill=\"\\n${COLOR}\"></path><text transform=\"matrix( 1 0 0 1 13 18 )\" x=\"0\" y=\"0\" fill-opacity=\"1\" fill=\"#fff\" text-anchor=\"middle\" font-weight=\"bold\" font-size=\"13px\" fon\\nt-family=\"arial\">${TEXT}</text></svg>\\'\\n\\n'"
          },
          "metadata": {}
        }
      ]
    },
    {
      "metadata": {
        "trusted": true
      },
      "cell_type": "code",
      "source": "last_part",
      "execution_count": 3,
      "outputs": [
        {
          "output_type": "execute_result",
          "execution_count": 3,
          "data": {
            "text/plain": "'\\n\\n// Now use the map as required...\\naddMarkersToMap(map);\\n  </script>\\n</body>\\n</html>\\n'"
          },
          "metadata": {}
        }
      ]
    },
    {
      "metadata": {
        "trusted": true
      },
      "cell_type": "code",
      "source": "def construct_middle_part(points):\n    \"\"\"\n    input\n    \n    points: [(lat,lng), (lat,lng), ...]\n    \n    output\n    \n    string of \n      var parisMarker = new H.map.Marker({lat:48.8567, lng:2.3508});\n      map.addObject(parisMarker);\n\n    \"\"\"\n    \n    output_str = \"\"\"\n    \n    // for custom markers\nvar svgMarkup = '<svg style=\"left:-14px;top:-36px;\" xmlns=\"http://www.w3.org/2000/svg\" width=\"28px\" height=\"36px\" ><path d=\"M 19 31 C 19 32.7 16.3 34 13 34 C 9.\n7 34 7 32.7 7 31 C 7 29.3 9.7 28 13 28 C 16.3 28 19 29.3 19 31 Z\" fill=\"#000\" fill-opacity=\".2\"></path><path d=\"M 13 0 C 9.5 0 6.3 1.3 3.8 3.8 C 1.4 7.8 0 9.4 0\n 12.8 C 0 16.3 1.4 19.5 3.8 21.9 L 13 31 L 22.2 21.9 C 24.6 19.5 25.9 16.3 25.9 12.8 C 25.9 9.4 24.6 6.1 22.1 3.8 C 19.7 1.3 16.5 0 13 0 Z\" fill=\"#fff\"></path><\npath d=\"M 13 2.2 C 6 2.2 2.3 7.2 2.1 12.8 C 2.1 16.1 3.1 18.4 5.2 20.5 L 13 28.2 L 20.8 20.5 C 22.9 18.4 23.8 16.2 23.8 12.8 C 23.6 7.07 20 2.2 13 2.2 Z\" fill=\"\n${COLOR}\"></path><text transform=\"matrix( 1 0 0 1 13 18 )\" x=\"0\" y=\"0\" fill-opacity=\"1\" fill=\"#fff\" text-anchor=\"middle\" font-weight=\"bold\" font-size=\"13px\" fon\nt-family=\"arial\">${TEXT}</text></svg>'\n\n    \"\"\"\n    \n    for p in points:\n        output_str += \"\"\"\n          var \n          var parisIcon = new H.map.Icon(svgMarkup.replace(\"${COLOR}\", \"black\").replace(\"${TEXT}\", \"E\"));\n          var parisMarker = new H.map.Marker({lat:%f, lng:%f, icon:parisIcon});\n          map.addObject(parisMarker);\n        \"\"\" % (p[0], p[1])\n        \n    return output_str\n    ",
      "execution_count": 11,
      "outputs": []
    },
    {
      "metadata": {
        "trusted": true
      },
      "cell_type": "code",
      "source": "points = [(48.8567, 2.3508), (41.9, 12.5), (52.5166, 13.3833)]\n\nmiddle_part = construct_middle_part(points)\nmiddle_part",
      "execution_count": 12,
      "outputs": [
        {
          "output_type": "execute_result",
          "execution_count": 12,
          "data": {
            "text/plain": "'\\n          var parisIcon = new H.map.Icon(svgMarkup.replace(\"${COLOR}\", \"black\").replace(\"${TEXT}\", \"E\"));\\n          var parisMarker = new H.map.Marker({lat:48.856700, lng:2.350800, icon:parisIcon});\\n          map.addObject(parisMarker);\\n        \\n          var parisIcon = new H.map.Icon(svgMarkup.replace(\"${COLOR}\", \"black\").replace(\"${TEXT}\", \"E\"));\\n          var parisMarker = new H.map.Marker({lat:41.900000, lng:12.500000, icon:parisIcon});\\n          map.addObject(parisMarker);\\n        \\n          var parisIcon = new H.map.Icon(svgMarkup.replace(\"${COLOR}\", \"black\").replace(\"${TEXT}\", \"E\"));\\n          var parisMarker = new H.map.Marker({lat:52.516600, lng:13.383300, icon:parisIcon});\\n          map.addObject(parisMarker);\\n        '"
          },
          "metadata": {}
        }
      ]
    },
    {
      "metadata": {
        "trusted": true,
        "scrolled": true
      },
      "cell_type": "code",
      "source": "whole = first_part + middle_part + last_part\nwhole",
      "execution_count": 13,
      "outputs": [
        {
          "output_type": "execute_result",
          "execution_count": 13,
          "data": {
            "text/plain": "'\\n<!DOCTYPE html>\\n<html>\\n<head>\\n<meta name=\"viewport\" content=\"initial-scale=1.0, width=device-width\" />\\n<link rel=\"stylesheet\" type=\"text/css\" href=\"https://js.api.here.com/v3/3.0/mapsjs-ui.css?dp-version=1542186754\" />\\n<script type=\"text/javascript\" src=\"https://js.api.here.com/v3/3.0/mapsjs-core.js\"></script>\\n<script type=\"text/javascript\" src=\"https://js.api.here.com/v3/3.0/mapsjs-service.js\"></script>\\n<script type=\"text/javascript\" src=\"https://js.api.here.com/v3/3.0/mapsjs-ui.js\"></script>\\n<script type=\"text/javascript\" src=\"https://js.api.here.com/v3/3.0/mapsjs-mapevents.js\"></script>\\n\\n</head>\\n<body>\\n  <div id=\"map\" style=\"width: 100%; height: 400px; background: grey\" />\\n  <script  type=\"text/javascript\" charset=\"UTF-8\" >\\n    \\n\\n/**\\n * Adds markers to the map highlighting the locations of the captials of\\n * France, Italy, Germany, Spain and the United Kingdom.\\n *\\n * @param  {H.Map} map      A HERE Map instance within the application\\n */\\nfunction addMarkersToMap(map) {\\n  //var parisMarker = new H.map.Marker({lat:48.8567, lng:2.3508});\\n  //map.addObject(parisMarker);\\n}\\n\\n/**\\n * Boilerplate map initialization code starts below:\\n */\\n\\n//Step 1: initialize communication with the platform\\nvar platform = new H.service.Platform({\\n  app_id: \\'devportal-demo-20180625\\',\\n  app_code: \\'9v2BkviRwi9Ot26kp2IysQ\\',\\n  useHTTPS: true\\n});\\nvar pixelRatio = window.devicePixelRatio || 1;\\nvar defaultLayers = platform.createDefaultLayers({\\n  tileSize: pixelRatio === 1 ? 256 : 512,\\n  ppi: pixelRatio === 1 ? undefined : 320\\n});\\n\\n//Step 2: initialize a map - this map is centered over Europe\\nvar map = new H.Map(document.getElementById(\\'map\\'),\\n  defaultLayers.normal.map,{\\n  center: {lat:50, lng:5},\\n  zoom: 4,\\n  pixelRatio: pixelRatio\\n});\\n\\n//Step 3: make the map interactive\\n// MapEvents enables the event system\\n// Behavior implements default interactions for pan/zoom (also on mobile touch environments)\\nvar behavior = new H.mapevents.Behavior(new H.mapevents.MapEvents(map));\\n\\n// Create the default UI components\\nvar ui = H.ui.UI.createDefault(map, defaultLayers);\\n\\n// for custom markers\\nvar svgMarkup = \\'<svg style=\"left:-14px;top:-36px;\" xmlns=\"http://www.w3.org/2000/svg\" width=\"28px\" height=\"36px\" ><path d=\"M 19 31 C 19 32.7 16.3 34 13 34 C 9.\\n7 34 7 32.7 7 31 C 7 29.3 9.7 28 13 28 C 16.3 28 19 29.3 19 31 Z\" fill=\"#000\" fill-opacity=\".2\"></path><path d=\"M 13 0 C 9.5 0 6.3 1.3 3.8 3.8 C 1.4 7.8 0 9.4 0\\n 12.8 C 0 16.3 1.4 19.5 3.8 21.9 L 13 31 L 22.2 21.9 C 24.6 19.5 25.9 16.3 25.9 12.8 C 25.9 9.4 24.6 6.1 22.1 3.8 C 19.7 1.3 16.5 0 13 0 Z\" fill=\"#fff\"></path><\\npath d=\"M 13 2.2 C 6 2.2 2.3 7.2 2.1 12.8 C 2.1 16.1 3.1 18.4 5.2 20.5 L 13 28.2 L 20.8 20.5 C 22.9 18.4 23.8 16.2 23.8 12.8 C 23.6 7.07 20 2.2 13 2.2 Z\" fill=\"\\n${COLOR}\"></path><text transform=\"matrix( 1 0 0 1 13 18 )\" x=\"0\" y=\"0\" fill-opacity=\"1\" fill=\"#fff\" text-anchor=\"middle\" font-weight=\"bold\" font-size=\"13px\" fon\\nt-family=\"arial\">${TEXT}</text></svg>\\'\\n\\n\\n          var parisIcon = new H.map.Icon(svgMarkup.replace(\"${COLOR}\", \"black\").replace(\"${TEXT}\", \"E\"));\\n          var parisMarker = new H.map.Marker({lat:48.856700, lng:2.350800, icon:parisIcon});\\n          map.addObject(parisMarker);\\n        \\n          var parisIcon = new H.map.Icon(svgMarkup.replace(\"${COLOR}\", \"black\").replace(\"${TEXT}\", \"E\"));\\n          var parisMarker = new H.map.Marker({lat:41.900000, lng:12.500000, icon:parisIcon});\\n          map.addObject(parisMarker);\\n        \\n          var parisIcon = new H.map.Icon(svgMarkup.replace(\"${COLOR}\", \"black\").replace(\"${TEXT}\", \"E\"));\\n          var parisMarker = new H.map.Marker({lat:52.516600, lng:13.383300, icon:parisIcon});\\n          map.addObject(parisMarker);\\n        \\n\\n// Now use the map as required...\\naddMarkersToMap(map);\\n  </script>\\n</body>\\n</html>\\n'"
          },
          "metadata": {}
        }
      ]
    },
    {
      "metadata": {
        "trusted": true,
        "scrolled": true
      },
      "cell_type": "code",
      "source": "from IPython.display import HTML\ndisplay(HTML(whole))",
      "execution_count": 14,
      "outputs": [
        {
          "output_type": "display_data",
          "data": {
            "text/html": "\n<!DOCTYPE html>\n<html>\n<head>\n<meta name=\"viewport\" content=\"initial-scale=1.0, width=device-width\" />\n<link rel=\"stylesheet\" type=\"text/css\" href=\"https://js.api.here.com/v3/3.0/mapsjs-ui.css?dp-version=1542186754\" />\n<script type=\"text/javascript\" src=\"https://js.api.here.com/v3/3.0/mapsjs-core.js\"></script>\n<script type=\"text/javascript\" src=\"https://js.api.here.com/v3/3.0/mapsjs-service.js\"></script>\n<script type=\"text/javascript\" src=\"https://js.api.here.com/v3/3.0/mapsjs-ui.js\"></script>\n<script type=\"text/javascript\" src=\"https://js.api.here.com/v3/3.0/mapsjs-mapevents.js\"></script>\n\n</head>\n<body>\n  <div id=\"map\" style=\"width: 100%; height: 400px; background: grey\" />\n  <script  type=\"text/javascript\" charset=\"UTF-8\" >\n    \n\n/**\n * Adds markers to the map highlighting the locations of the captials of\n * France, Italy, Germany, Spain and the United Kingdom.\n *\n * @param  {H.Map} map      A HERE Map instance within the application\n */\nfunction addMarkersToMap(map) {\n  //var parisMarker = new H.map.Marker({lat:48.8567, lng:2.3508});\n  //map.addObject(parisMarker);\n}\n\n/**\n * Boilerplate map initialization code starts below:\n */\n\n//Step 1: initialize communication with the platform\nvar platform = new H.service.Platform({\n  app_id: 'devportal-demo-20180625',\n  app_code: '9v2BkviRwi9Ot26kp2IysQ',\n  useHTTPS: true\n});\nvar pixelRatio = window.devicePixelRatio || 1;\nvar defaultLayers = platform.createDefaultLayers({\n  tileSize: pixelRatio === 1 ? 256 : 512,\n  ppi: pixelRatio === 1 ? undefined : 320\n});\n\n//Step 2: initialize a map - this map is centered over Europe\nvar map = new H.Map(document.getElementById('map'),\n  defaultLayers.normal.map,{\n  center: {lat:50, lng:5},\n  zoom: 4,\n  pixelRatio: pixelRatio\n});\n\n//Step 3: make the map interactive\n// MapEvents enables the event system\n// Behavior implements default interactions for pan/zoom (also on mobile touch environments)\nvar behavior = new H.mapevents.Behavior(new H.mapevents.MapEvents(map));\n\n// Create the default UI components\nvar ui = H.ui.UI.createDefault(map, defaultLayers);\n\n// for custom markers\nvar svgMarkup = '<svg style=\"left:-14px;top:-36px;\" xmlns=\"http://www.w3.org/2000/svg\" width=\"28px\" height=\"36px\" ><path d=\"M 19 31 C 19 32.7 16.3 34 13 34 C 9.\n7 34 7 32.7 7 31 C 7 29.3 9.7 28 13 28 C 16.3 28 19 29.3 19 31 Z\" fill=\"#000\" fill-opacity=\".2\"></path><path d=\"M 13 0 C 9.5 0 6.3 1.3 3.8 3.8 C 1.4 7.8 0 9.4 0\n 12.8 C 0 16.3 1.4 19.5 3.8 21.9 L 13 31 L 22.2 21.9 C 24.6 19.5 25.9 16.3 25.9 12.8 C 25.9 9.4 24.6 6.1 22.1 3.8 C 19.7 1.3 16.5 0 13 0 Z\" fill=\"#fff\"></path><\npath d=\"M 13 2.2 C 6 2.2 2.3 7.2 2.1 12.8 C 2.1 16.1 3.1 18.4 5.2 20.5 L 13 28.2 L 20.8 20.5 C 22.9 18.4 23.8 16.2 23.8 12.8 C 23.6 7.07 20 2.2 13 2.2 Z\" fill=\"\n${COLOR}\"></path><text transform=\"matrix( 1 0 0 1 13 18 )\" x=\"0\" y=\"0\" fill-opacity=\"1\" fill=\"#fff\" text-anchor=\"middle\" font-weight=\"bold\" font-size=\"13px\" fon\nt-family=\"arial\">${TEXT}</text></svg>'\n\n\n          var parisIcon = new H.map.Icon(svgMarkup.replace(\"${COLOR}\", \"black\").replace(\"${TEXT}\", \"E\"));\n          var parisMarker = new H.map.Marker({lat:48.856700, lng:2.350800, icon:parisIcon});\n          map.addObject(parisMarker);\n        \n          var parisIcon = new H.map.Icon(svgMarkup.replace(\"${COLOR}\", \"black\").replace(\"${TEXT}\", \"E\"));\n          var parisMarker = new H.map.Marker({lat:41.900000, lng:12.500000, icon:parisIcon});\n          map.addObject(parisMarker);\n        \n          var parisIcon = new H.map.Icon(svgMarkup.replace(\"${COLOR}\", \"black\").replace(\"${TEXT}\", \"E\"));\n          var parisMarker = new H.map.Marker({lat:52.516600, lng:13.383300, icon:parisIcon});\n          map.addObject(parisMarker);\n        \n\n// Now use the map as required...\naddMarkersToMap(map);\n  </script>\n</body>\n</html>\n",
            "text/plain": "<IPython.core.display.HTML object>"
          },
          "metadata": {}
        }
      ]
    },
    {
      "metadata": {
        "trusted": true
      },
      "cell_type": "code",
      "source": "f = open(\"custom_markers.html\", \"w\")\nf.write(whole)\nf.close()",
      "execution_count": 15,
      "outputs": []
    },
    {
      "metadata": {
        "trusted": true
      },
      "cell_type": "code",
      "source": "",
      "execution_count": null,
      "outputs": []
    }
  ],
  "metadata": {
    "kernelspec": {
      "name": "python36",
      "display_name": "Python 3.6",
      "language": "python"
    },
    "language_info": {
      "mimetype": "text/x-python",
      "nbconvert_exporter": "python",
      "name": "python",
      "pygments_lexer": "ipython3",
      "version": "3.6.6",
      "file_extension": ".py",
      "codemirror_mode": {
        "version": 3,
        "name": "ipython"
      }
    }
  },
  "nbformat": 4,
  "nbformat_minor": 2
}