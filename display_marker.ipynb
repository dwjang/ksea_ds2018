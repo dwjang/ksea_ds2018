{
  "cells": [
    {
      "metadata": {
        "trusted": true
      },
      "cell_type": "code",
      "source": "outstr = \"\"\"\n<!DOCTYPE html>\n<html>\n<head>\n<meta name=\"viewport\" content=\"initial-scale=1.0, width=device-width\" />\n<link rel=\"stylesheet\" type=\"text/css\" href=\"https://js.api.here.com/v3/3.0/mapsjs-ui.css?dp-version=1542186754\" />\n<script type=\"text/javascript\" src=\"https://js.api.here.com/v3/3.0/mapsjs-core.js\"></script>\n<script type=\"text/javascript\" src=\"https://js.api.here.com/v3/3.0/mapsjs-service.js\"></script>\n<script type=\"text/javascript\" src=\"https://js.api.here.com/v3/3.0/mapsjs-ui.js\"></script>\n<script type=\"text/javascript\" src=\"https://js.api.here.com/v3/3.0/mapsjs-mapevents.js\"></script>\n\n</head>\n<body>\n  <div id=\"map\" style=\"width: 100%; height: 400px; background: grey\" />\n  <script  type=\"text/javascript\" charset=\"UTF-8\" >\n    \n\n/**\n * Adds markers to the map highlighting the locations of the captials of\n * France, Italy, Germany, Spain and the United Kingdom.\n *\n * @param  {H.Map} map      A HERE Map instance within the application\n */\nfunction addMarkersToMap(map) {\n  var parisMarker = new H.map.Marker({lat:48.8567, lng:2.3508});\n  map.addObject(parisMarker);\n\n  var romeMarker = new H.map.Marker({lat:41.9, lng: 12.5});\n  map.addObject(romeMarker);\n\n  var berlinMarker = new H.map.Marker({lat:52.5166, lng:13.3833});\n  map.addObject(berlinMarker);\n\n  var madridMarker = new H.map.Marker({lat:40.4, lng: -3.6833});\n  map.addObject(madridMarker);\n\n  var londonMarker = new H.map.Marker({lat:51.5008, lng:-0.1224});\n  map.addObject(londonMarker);\n}\n\n\n\n\n\n/**\n * Boilerplate map initialization code starts below:\n */\n\n//Step 1: initialize communication with the platform\nvar platform = new H.service.Platform({\n  app_id: 'KjI36SHq7XxuMRENHgFb',\n  app_code: '8TwAAvkLMPmp4FX_NWdwNg',\n  useHTTPS: true\n});\nvar pixelRatio = window.devicePixelRatio || 1;\nvar defaultLayers = platform.createDefaultLayers({\n  tileSize: pixelRatio === 1 ? 256 : 512,\n  ppi: pixelRatio === 1 ? undefined : 320\n});\n\n//Step 2: initialize a map - this map is centered over Europe\nvar map = new H.Map(document.getElementById('map'),\n  defaultLayers.normal.map,{\n  center: {lat:50, lng:5},\n  zoom: 4,\n  pixelRatio: pixelRatio\n});\n\n//Step 3: make the map interactive\n// MapEvents enables the event system\n// Behavior implements default interactions for pan/zoom (also on mobile touch environments)\nvar behavior = new H.mapevents.Behavior(new H.mapevents.MapEvents(map));\n\n// Create the default UI components\nvar ui = H.ui.UI.createDefault(map, defaultLayers);\n\n// Now use the map as required...\naddMarkersToMap(map);\n  </script>\n</body>\n</html>\n\"\"\"",
      "execution_count": 30,
      "outputs": []
    },
    {
      "metadata": {
        "trusted": true,
        "scrolled": true
      },
      "cell_type": "code",
      "source": "from IPython.display import HTML\ndisplay(HTML(outstr))",
      "execution_count": 33,
      "outputs": [
        {
          "output_type": "display_data",
          "data": {
            "text/html": "\n<!DOCTYPE html>\n<html>\n<head>\n<meta name=\"viewport\" content=\"initial-scale=1.0, width=device-width\" />\n<link rel=\"stylesheet\" type=\"text/css\" href=\"https://js.api.here.com/v3/3.0/mapsjs-ui.css?dp-version=1542186754\" />\n<script type=\"text/javascript\" src=\"https://js.api.here.com/v3/3.0/mapsjs-core.js\"></script>\n<script type=\"text/javascript\" src=\"https://js.api.here.com/v3/3.0/mapsjs-service.js\"></script>\n<script type=\"text/javascript\" src=\"https://js.api.here.com/v3/3.0/mapsjs-ui.js\"></script>\n<script type=\"text/javascript\" src=\"https://js.api.here.com/v3/3.0/mapsjs-mapevents.js\"></script>\n\n</head>\n<body>\n  <div id=\"map\" style=\"width: 100%; height: 400px; background: grey\" />\n  <script  type=\"text/javascript\" charset=\"UTF-8\" >\n    \n\n/**\n * Adds markers to the map highlighting the locations of the captials of\n * France, Italy, Germany, Spain and the United Kingdom.\n *\n * @param  {H.Map} map      A HERE Map instance within the application\n */\nfunction addMarkersToMap(map) {\n  var parisMarker = new H.map.Marker({lat:48.8567, lng:2.3508});\n  map.addObject(parisMarker);\n\n  var romeMarker = new H.map.Marker({lat:41.9, lng: 12.5});\n  map.addObject(romeMarker);\n\n  var berlinMarker = new H.map.Marker({lat:52.5166, lng:13.3833});\n  map.addObject(berlinMarker);\n\n  var madridMarker = new H.map.Marker({lat:40.4, lng: -3.6833});\n  map.addObject(madridMarker);\n\n  var londonMarker = new H.map.Marker({lat:51.5008, lng:-0.1224});\n  map.addObject(londonMarker);\n}\n\n\n\n\n\n/**\n * Boilerplate map initialization code starts below:\n */\n\n//Step 1: initialize communication with the platform\nvar platform = new H.service.Platform({\n  app_id: 'KjI36SHq7XxuMRENHgFb',\n  app_code: '8TwAAvkLMPmp4FX_NWdwNg',\n  useHTTPS: true\n});\nvar pixelRatio = window.devicePixelRatio || 1;\nvar defaultLayers = platform.createDefaultLayers({\n  tileSize: pixelRatio === 1 ? 256 : 512,\n  ppi: pixelRatio === 1 ? undefined : 320\n});\n\n//Step 2: initialize a map - this map is centered over Europe\nvar map = new H.Map(document.getElementById('map'),\n  defaultLayers.normal.map,{\n  center: {lat:50, lng:5},\n  zoom: 4,\n  pixelRatio: pixelRatio\n});\n\n//Step 3: make the map interactive\n// MapEvents enables the event system\n// Behavior implements default interactions for pan/zoom (also on mobile touch environments)\nvar behavior = new H.mapevents.Behavior(new H.mapevents.MapEvents(map));\n\n// Create the default UI components\nvar ui = H.ui.UI.createDefault(map, defaultLayers);\n\n// Now use the map as required...\naddMarkersToMap(map);\n  </script>\n</body>\n</html>\n",
            "text/plain": "<IPython.core.display.HTML object>"
          },
          "metadata": {}
        }
      ]
    },
    {
      "metadata": {
        "trusted": true
      },
      "cell_type": "code",
      "source": "",
      "execution_count": null,
      "outputs": []
    },
    {
      "metadata": {
        "trusted": true
      },
      "cell_type": "code",
      "source": "",
      "execution_count": null,
      "outputs": []
    }
  ],
  "metadata": {
    "kernelspec": {
      "name": "python36",
      "display_name": "Python 3.6",
      "language": "python"
    },
    "language_info": {
      "mimetype": "text/x-python",
      "nbconvert_exporter": "python",
      "name": "python",
      "pygments_lexer": "ipython3",
      "version": "3.6.6",
      "file_extension": ".py",
      "codemirror_mode": {
        "version": 3,
        "name": "ipython"
      }
    }
  },
  "nbformat": 4,
  "nbformat_minor": 2
}