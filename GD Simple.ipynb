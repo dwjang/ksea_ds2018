{
  "cells": [
    {
      "metadata": {
        "trusted": true
      },
      "cell_type": "code",
      "source": "import random\n\nrandom.seed(2046389)\n\ndef gradient_descent_simple(f, df, alpha=0.01, max_iter=1000, precision=1e-8):\n    \"\"\"\n    f: a function of x\n    df: df/dx\n    max_iter: maximum number of iteration to be run\n    precision: acceptable error\n    \"\"\"\n    pre_x = random.random()*10\n    cur_x = pre_x\n    for i in range(max_iter):\n        cur_x = cur_x - alpha * df(cur_x)\n        x_error = pre_x - cur_x\n        if abs(x_error) < precision:\n            y_error = f(pre_x) - f(cur_x)\n            print(\"error reached to the acceptable precision:\", x_error, y_error)\n            break\n        pre_x = cur_x\n    if i == max_iter-1: print(\"max_iter reached\", i)\n        \n    return cur_x",
      "execution_count": 1,
      "outputs": []
    },
    {
      "metadata": {
        "trusted": true
      },
      "cell_type": "code",
      "source": "f = lambda x: x**2 - 2*x + 1\ndf = lambda x: 2*x - 2\nresult = gradient_descent_simple(f, df)\nprint(result)",
      "execution_count": 2,
      "outputs": [
        {
          "output_type": "stream",
          "text": "error reached to the acceptable precision: -9.857605620666732e-09 9.658940314238862e-15\n0.9999995169773219\n",
          "name": "stdout"
        }
      ]
    },
    {
      "metadata": {
        "trusted": true
      },
      "cell_type": "code",
      "source": "",
      "execution_count": null,
      "outputs": []
    }
  ],
  "metadata": {
    "kernelspec": {
      "name": "python36",
      "display_name": "Python 3.6",
      "language": "python"
    },
    "language_info": {
      "mimetype": "text/x-python",
      "nbconvert_exporter": "python",
      "name": "python",
      "pygments_lexer": "ipython3",
      "version": "3.6.6",
      "file_extension": ".py",
      "codemirror_mode": {
        "version": 3,
        "name": "ipython"
      }
    }
  },
  "nbformat": 4,
  "nbformat_minor": 2
}