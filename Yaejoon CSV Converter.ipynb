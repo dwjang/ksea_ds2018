{
  "cells": [
    {
      "metadata": {
        "trusted": true
      },
      "cell_type": "code",
      "source": "#filename = \"Androsensor.csv\"\nfilename = \"2.16.2019.csv\"\nfilehandler =  open(filename,\"r\")\ncount = 0\nbigstr = \"\"\nfor iline, line in enumerate(filehandler):\n    if iline == 0: continue\n    #sploot = line.split(\",\")\n    sploot = line.split(\";\")\n    temp = []\n    for num in [22,23,27,29,32]:\n            temp.append(sploot[num])\n    tempstr = \"\"\n    for num in temp:\n        tempstr = tempstr + num + \",\"\n    tempstr = tempstr[:-1]\n    bigstr = bigstr + tempstr\n#bigstr = \"sep=;\\n\" + bigstr\nfilehandler.close()\nfilehandler = open(\"new.csv\",\"w\")\nfilehandler.write(bigstr)\nfilehandler.close()",
      "execution_count": 2,
      "outputs": []
    },
    {
      "metadata": {
        "trusted": false
      },
      "cell_type": "code",
      "source": "",
      "execution_count": null,
      "outputs": []
    }
  ],
  "metadata": {
    "kernelspec": {
      "name": "python3",
      "display_name": "Python 3",
      "language": "python"
    },
    "language_info": {
      "mimetype": "text/x-python",
      "nbconvert_exporter": "python",
      "name": "python",
      "pygments_lexer": "ipython3",
      "version": "3.5.4",
      "file_extension": ".py",
      "codemirror_mode": {
        "version": 3,
        "name": "ipython"
      }
    }
  },
  "nbformat": 4,
  "nbformat_minor": 2
}