{
  "cells": [
    {
      "metadata": {
        "trusted": true
      },
      "cell_type": "code",
      "source": "import pandas as pd",
      "execution_count": 1,
      "outputs": [
        {
          "output_type": "stream",
          "text": "/home/nbuser/anaconda3_501/lib/python3.6/importlib/_bootstrap.py:219: RuntimeWarning: numpy.dtype size changed, may indicate binary incompatibility. Expected 96, got 88\n  return f(*args, **kwds)\n/home/nbuser/anaconda3_501/lib/python3.6/importlib/_bootstrap.py:219: RuntimeWarning: numpy.dtype size changed, may indicate binary incompatibility. Expected 96, got 88\n  return f(*args, **kwds)\n",
          "name": "stderr"
        }
      ]
    },
    {
      "metadata": {
        "trusted": true
      },
      "cell_type": "code",
      "source": "bp = pd.read_json(\"https://data.cityofchicago.org/resource/building-permits.json\")",
      "execution_count": 3,
      "outputs": []
    },
    {
      "metadata": {
        "trusted": true
      },
      "cell_type": "code",
      "source": "bp.head(5)",
      "execution_count": 5,
      "outputs": [
        {
          "output_type": "execute_result",
          "execution_count": 5,
          "data": {
            "text/html": "<div>\n<style>\n    .dataframe thead tr:only-child th {\n        text-align: right;\n    }\n\n    .dataframe thead th {\n        text-align: left;\n    }\n\n    .dataframe tbody tr th {\n        vertical-align: top;\n    }\n</style>\n<table border=\"1\" class=\"dataframe\">\n  <thead>\n    <tr style=\"text-align: right;\">\n      <th></th>\n      <th>_amount_paid</th>\n      <th>_amount_waived</th>\n      <th>_estimated_cost</th>\n      <th>_issue_date</th>\n      <th>_permit_type</th>\n      <th>_pin1</th>\n      <th>_pin10</th>\n      <th>_pin2</th>\n      <th>_pin3</th>\n      <th>_pin4</th>\n      <th>...</th>\n      <th>contractor_9_zipcode</th>\n      <th>id</th>\n      <th>latitude</th>\n      <th>location</th>\n      <th>longitude</th>\n      <th>permit_</th>\n      <th>street_direction</th>\n      <th>street_name</th>\n      <th>street_number</th>\n      <th>work_description</th>\n    </tr>\n  </thead>\n  <tbody>\n    <tr>\n      <th>0</th>\n      <td>105.0</td>\n      <td>65.0</td>\n      <td>66000</td>\n      <td>2004-08-23T00:00:00</td>\n      <td>PERMIT - ELEVATOR EQUIPMENT</td>\n      <td>17-09-260-020-0000</td>\n      <td>NaN</td>\n      <td>17-09-260-023-0000</td>\n      <td>NaN</td>\n      <td>NaN</td>\n      <td>...</td>\n      <td>NaN</td>\n      <td>1374921</td>\n      <td>41.889250</td>\n      <td>{'latitude': '41.889249801888774', 'human_addr...</td>\n      <td>-87.631208</td>\n      <td>100000586</td>\n      <td>N</td>\n      <td>CLARK</td>\n      <td>400</td>\n      <td>FOR INSTALLATION OF ONE (1) HYDRAULIC ELEVATOR...</td>\n    </tr>\n    <tr>\n      <th>1</th>\n      <td>105.0</td>\n      <td>65.0</td>\n      <td>120000</td>\n      <td>2004-08-24T00:00:00</td>\n      <td>PERMIT - ELEVATOR EQUIPMENT</td>\n      <td>NaN</td>\n      <td>NaN</td>\n      <td>NaN</td>\n      <td>NaN</td>\n      <td>NaN</td>\n      <td>...</td>\n      <td>NaN</td>\n      <td>1377863</td>\n      <td>41.787863</td>\n      <td>{'latitude': '41.78786254105026', 'human_addre...</td>\n      <td>-87.600859</td>\n      <td>100001883</td>\n      <td>E</td>\n      <td>59TH</td>\n      <td>1010</td>\n      <td>FURNISH AND INSTALL NEW MACHINE NEW CONTROLLER...</td>\n    </tr>\n    <tr>\n      <th>2</th>\n      <td>1945.0</td>\n      <td>0.0</td>\n      <td>45000</td>\n      <td>2006-03-10T00:00:00</td>\n      <td>PERMIT - RENOVATION/ALTERATION</td>\n      <td>14-29-320-016-0000</td>\n      <td>NaN</td>\n      <td>NaN</td>\n      <td>NaN</td>\n      <td>NaN</td>\n      <td>...</td>\n      <td>NaN</td>\n      <td>1378485</td>\n      <td>41.925857</td>\n      <td>{'latitude': '41.92585684158289', 'human_addre...</td>\n      <td>-87.664452</td>\n      <td>100002267</td>\n      <td>N</td>\n      <td>JANSSEN</td>\n      <td>2421</td>\n      <td>GOING FROM 3A TO 4B CONSTRUCTION ON HOME AND G...</td>\n    </tr>\n    <tr>\n      <th>3</th>\n      <td>105.0</td>\n      <td>65.0</td>\n      <td>51500</td>\n      <td>2010-10-01T00:00:00</td>\n      <td>PERMIT - ELEVATOR EQUIPMENT</td>\n      <td>NaN</td>\n      <td>NaN</td>\n      <td>NaN</td>\n      <td>NaN</td>\n      <td>NaN</td>\n      <td>...</td>\n      <td>NaN</td>\n      <td>1379556</td>\n      <td>41.974737</td>\n      <td>{'latitude': '41.974737104518226', 'human_addr...</td>\n      <td>-87.668105</td>\n      <td>100002902</td>\n      <td>N</td>\n      <td>CLARK</td>\n      <td>5111</td>\n      <td>INSTALLATION OF 1 HYDRAULIC ELEVATOR 2100LB</td>\n    </tr>\n    <tr>\n      <th>4</th>\n      <td>210.0</td>\n      <td>65.0</td>\n      <td>83000</td>\n      <td>2004-09-01T00:00:00</td>\n      <td>PERMIT - ELEVATOR EQUIPMENT</td>\n      <td>NaN</td>\n      <td>NaN</td>\n      <td>NaN</td>\n      <td>NaN</td>\n      <td>NaN</td>\n      <td>...</td>\n      <td>NaN</td>\n      <td>1379931</td>\n      <td>41.954647</td>\n      <td>{'latitude': '41.954647086181744', 'human_addr...</td>\n      <td>-87.651171</td>\n      <td>100003191</td>\n      <td>W</td>\n      <td>IRVING PARK</td>\n      <td>840</td>\n      <td>INSTALL TWO (2) HYDRAULIC 4500 LB. ELEVATOR - ...</td>\n    </tr>\n  </tbody>\n</table>\n<p>5 rows × 103 columns</p>\n</div>",
            "text/plain": "   _amount_paid  _amount_waived  _estimated_cost          _issue_date  \\\n0         105.0            65.0            66000  2004-08-23T00:00:00   \n1         105.0            65.0           120000  2004-08-24T00:00:00   \n2        1945.0             0.0            45000  2006-03-10T00:00:00   \n3         105.0            65.0            51500  2010-10-01T00:00:00   \n4         210.0            65.0            83000  2004-09-01T00:00:00   \n\n                     _permit_type               _pin1 _pin10  \\\n0     PERMIT - ELEVATOR EQUIPMENT  17-09-260-020-0000    NaN   \n1     PERMIT - ELEVATOR EQUIPMENT                 NaN    NaN   \n2  PERMIT - RENOVATION/ALTERATION  14-29-320-016-0000    NaN   \n3     PERMIT - ELEVATOR EQUIPMENT                 NaN    NaN   \n4     PERMIT - ELEVATOR EQUIPMENT                 NaN    NaN   \n\n                _pin2 _pin3 _pin4  \\\n0  17-09-260-023-0000   NaN   NaN   \n1                 NaN   NaN   NaN   \n2                 NaN   NaN   NaN   \n3                 NaN   NaN   NaN   \n4                 NaN   NaN   NaN   \n\n                         ...                         contractor_9_zipcode  \\\n0                        ...                                          NaN   \n1                        ...                                          NaN   \n2                        ...                                          NaN   \n3                        ...                                          NaN   \n4                        ...                                          NaN   \n\n        id   latitude                                           location  \\\n0  1374921  41.889250  {'latitude': '41.889249801888774', 'human_addr...   \n1  1377863  41.787863  {'latitude': '41.78786254105026', 'human_addre...   \n2  1378485  41.925857  {'latitude': '41.92585684158289', 'human_addre...   \n3  1379556  41.974737  {'latitude': '41.974737104518226', 'human_addr...   \n4  1379931  41.954647  {'latitude': '41.954647086181744', 'human_addr...   \n\n   longitude    permit_  street_direction  street_name street_number  \\\n0 -87.631208  100000586                 N        CLARK           400   \n1 -87.600859  100001883                 E         59TH          1010   \n2 -87.664452  100002267                 N      JANSSEN          2421   \n3 -87.668105  100002902                 N        CLARK          5111   \n4 -87.651171  100003191                 W  IRVING PARK           840   \n\n                                    work_description  \n0  FOR INSTALLATION OF ONE (1) HYDRAULIC ELEVATOR...  \n1  FURNISH AND INSTALL NEW MACHINE NEW CONTROLLER...  \n2  GOING FROM 3A TO 4B CONSTRUCTION ON HOME AND G...  \n3        INSTALLATION OF 1 HYDRAULIC ELEVATOR 2100LB  \n4  INSTALL TWO (2) HYDRAULIC 4500 LB. ELEVATOR - ...  \n\n[5 rows x 103 columns]"
          },
          "metadata": {}
        }
      ]
    },
    {
      "metadata": {
        "trusted": true,
        "scrolled": true
      },
      "cell_type": "code",
      "source": "bp.describe()",
      "execution_count": 6,
      "outputs": [
        {
          "output_type": "execute_result",
          "execution_count": 6,
          "data": {
            "text/html": "<div>\n<style>\n    .dataframe thead tr:only-child th {\n        text-align: right;\n    }\n\n    .dataframe thead th {\n        text-align: left;\n    }\n\n    .dataframe tbody tr th {\n        vertical-align: top;\n    }\n</style>\n<table border=\"1\" class=\"dataframe\">\n  <thead>\n    <tr style=\"text-align: right;\">\n      <th></th>\n      <th>_amount_paid</th>\n      <th>_amount_waived</th>\n      <th>_estimated_cost</th>\n      <th>_total_permit_fee</th>\n      <th>id</th>\n      <th>latitude</th>\n      <th>longitude</th>\n      <th>permit_</th>\n      <th>street_number</th>\n    </tr>\n  </thead>\n  <tbody>\n    <tr>\n      <th>count</th>\n      <td>1000.000000</td>\n      <td>1000.000000</td>\n      <td>1.000000e+03</td>\n      <td>1000.000000</td>\n      <td>1.000000e+03</td>\n      <td>996.000000</td>\n      <td>996.000000</td>\n      <td>1.000000e+03</td>\n      <td>1000.000000</td>\n    </tr>\n    <tr>\n      <th>mean</th>\n      <td>3803.154730</td>\n      <td>912.734070</td>\n      <td>4.202765e+05</td>\n      <td>4715.888800</td>\n      <td>1.587570e+06</td>\n      <td>41.878473</td>\n      <td>-87.674876</td>\n      <td>1.000617e+08</td>\n      <td>3372.752000</td>\n    </tr>\n    <tr>\n      <th>std</th>\n      <td>7642.715547</td>\n      <td>7576.598496</td>\n      <td>1.584447e+06</td>\n      <td>10453.288731</td>\n      <td>4.939365e+04</td>\n      <td>0.081582</td>\n      <td>0.058762</td>\n      <td>1.557399e+04</td>\n      <td>2635.187139</td>\n    </tr>\n    <tr>\n      <th>min</th>\n      <td>0.000000</td>\n      <td>0.000000</td>\n      <td>0.000000e+00</td>\n      <td>40.000000</td>\n      <td>1.374921e+06</td>\n      <td>41.649008</td>\n      <td>-87.914428</td>\n      <td>1.000006e+08</td>\n      <td>1.000000</td>\n    </tr>\n    <tr>\n      <th>25%</th>\n      <td>164.500000</td>\n      <td>0.000000</td>\n      <td>1.500000e+04</td>\n      <td>274.975000</td>\n      <td>1.582238e+06</td>\n      <td>41.818189</td>\n      <td>-87.706112</td>\n      <td>1.000568e+08</td>\n      <td>1337.500000</td>\n    </tr>\n    <tr>\n      <th>50%</th>\n      <td>1088.750000</td>\n      <td>0.000000</td>\n      <td>1.000000e+05</td>\n      <td>1392.300000</td>\n      <td>1.603862e+06</td>\n      <td>41.894273</td>\n      <td>-87.667313</td>\n      <td>1.000675e+08</td>\n      <td>2799.000000</td>\n    </tr>\n    <tr>\n      <th>75%</th>\n      <td>4734.412500</td>\n      <td>0.000000</td>\n      <td>3.750000e+05</td>\n      <td>5695.540000</td>\n      <td>1.613126e+06</td>\n      <td>41.936344</td>\n      <td>-87.636578</td>\n      <td>1.000723e+08</td>\n      <td>5105.250000</td>\n    </tr>\n    <tr>\n      <th>max</th>\n      <td>143737.450000</td>\n      <td>153645.790000</td>\n      <td>2.700000e+07</td>\n      <td>153970.790000</td>\n      <td>1.618962e+06</td>\n      <td>42.019069</td>\n      <td>-87.534221</td>\n      <td>1.000755e+08</td>\n      <td>13535.000000</td>\n    </tr>\n  </tbody>\n</table>\n</div>",
            "text/plain": "        _amount_paid  _amount_waived  _estimated_cost  _total_permit_fee  \\\ncount    1000.000000     1000.000000     1.000000e+03        1000.000000   \nmean     3803.154730      912.734070     4.202765e+05        4715.888800   \nstd      7642.715547     7576.598496     1.584447e+06       10453.288731   \nmin         0.000000        0.000000     0.000000e+00          40.000000   \n25%       164.500000        0.000000     1.500000e+04         274.975000   \n50%      1088.750000        0.000000     1.000000e+05        1392.300000   \n75%      4734.412500        0.000000     3.750000e+05        5695.540000   \nmax    143737.450000   153645.790000     2.700000e+07      153970.790000   \n\n                 id    latitude   longitude       permit_  street_number  \ncount  1.000000e+03  996.000000  996.000000  1.000000e+03    1000.000000  \nmean   1.587570e+06   41.878473  -87.674876  1.000617e+08    3372.752000  \nstd    4.939365e+04    0.081582    0.058762  1.557399e+04    2635.187139  \nmin    1.374921e+06   41.649008  -87.914428  1.000006e+08       1.000000  \n25%    1.582238e+06   41.818189  -87.706112  1.000568e+08    1337.500000  \n50%    1.603862e+06   41.894273  -87.667313  1.000675e+08    2799.000000  \n75%    1.613126e+06   41.936344  -87.636578  1.000723e+08    5105.250000  \nmax    1.618962e+06   42.019069  -87.534221  1.000755e+08   13535.000000  "
          },
          "metadata": {}
        }
      ]
    },
    {
      "metadata": {
        "trusted": true
      },
      "cell_type": "code",
      "source": "",
      "execution_count": null,
      "outputs": []
    }
  ],
  "metadata": {
    "kernelspec": {
      "name": "python36",
      "display_name": "Python 3.6",
      "language": "python"
    },
    "language_info": {
      "mimetype": "text/x-python",
      "nbconvert_exporter": "python",
      "name": "python",
      "pygments_lexer": "ipython3",
      "version": "3.6.6",
      "file_extension": ".py",
      "codemirror_mode": {
        "version": 3,
        "name": "ipython"
      }
    }
  },
  "nbformat": 4,
  "nbformat_minor": 2
}